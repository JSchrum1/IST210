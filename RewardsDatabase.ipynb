{
  "nbformat": 4,
  "nbformat_minor": 0,
  "metadata": {
    "colab": {
      "name": "RewardsDatabase.ipynb",
      "provenance": []
    },
    "kernelspec": {
      "name": "python3",
      "display_name": "Python 3"
    }
  },
  "cells": [
    {
      "cell_type": "markdown",
      "metadata": {
        "id": "Y79ssg4iQCg7",
        "colab_type": "text"
      },
      "source": [
        "Part 2: Gas Station Rewards Points Database"
      ]
    },
    {
      "cell_type": "markdown",
      "metadata": {
        "id": "J4rQYmfpQJv_",
        "colab_type": "text"
      },
      "source": [
        "The purpose of this database is to keep track of customers and their purchases, customers will be rewarded for frequently shopping in the form of ‘points’ which could be redeemed to get free items. Giving customers an incentive to shop will drive in more business, and in turn more lucrative profits. Each of the five tables below will demonstrate how this system works and how to keep track of it. A number of the tables will be updated in real time as customers make purchases, accumulating points or spending their points for reward. For the company it is very important that these tables stay up to date in order to combat customers trying to redeem their points more than once. The purpose of table one is to pair each of the customers with a personalized ID #, along with their names, phone numbers and available points, this will be updated in real time so the available points are readily viewable. Table two will represent how many points a customer is rewarded for buying each specific item. Conversely, table three will show how many points must be spent in order to attain each rewarded item, both of these tables will stay consistent as the values should not change. Tables four and five will be similar to one another as they will both keep track of transaction history specific to each customer. Table four will show previous transactions as a whole, giving the amount spent by the customer and the number of points awarded in the transaction. Table five builds off of table four, but more in depth, it takes each transaction, what you bought, and what you were awarded for each item, both of these tables will be updated in real time, and will be specific to each individual customer as previously stated. Tables 4 and 5 are important because they also eliminate the need for paper receipts, and makes them easier to track. Doing this cuts down on the costs of paper for the business and less degradation to the environment, plus most receipts end up in the trash anyway. For each of the tables there is a distinct relationship to the user, there is a 1:M relationship from table one to table four, and a M:M relationship between tables 4 and 5. Tables two and three do not update, and are not linked to any of the others, but they are necessary in tracking the points and knowing the values of individual products, because of this they have a 1:1 relationship with table one and a 1:M relationship with both tables four and five. Not much work would need to be done by the company as the system should update automatically, and will warn the cashier if someone is over drawing points. Other than that, there is the potential that corporate would change the values in tables two and three, to promote specific items or a number of different reasons they please. The point is that database will be taking the brunt of all the work and will allow workers to focus primarily on doing their jobs as best as possible. One constraint of the system is that there is no negative point values, therefore ensuring the company is not getting taken advantage of. There will also be a confirmation for each purchase made over $100. The goal of this database is to bring more customers in, people love to be rewarded, and made to feel special. By adding a reward system that is as easy to use as this, the quality of life for frequent shoppers dramatically increases. Having a reward system could be the decisive factor that makes customers choose to shop here as opposed to competitors.A lot of companies are creating award systems but none are as thorough as this. For the company itself, the benefits of having this reward system are monstrumental, it can cut down on common issues that are present in the workplace and give employees more time to focus on improving the other various facets of their duties, this can lead to higher production, and in turn, increased profits. All around this system is an essential part of workplace maintenance and growth."
      ]
    },
    {
      "cell_type": "markdown",
      "metadata": {
        "id": "CYkefVqOQVZB",
        "colab_type": "text"
      },
      "source": [
        "Table 1: Customers\n",
        "\n",
        "A list of customers, their IDs, phone numbers, and reward point balances are stored here.\n",
        "Goal: track customer information\n",
        "Method: Store it all in 1 table"
      ]
    },
    {
      "cell_type": "markdown",
      "metadata": {
        "id": "olNDvLuEQidh",
        "colab_type": "text"
      },
      "source": [
        "|Customer ID|First Name|Last Name|Phone Number|Points Available|\n",
        "|---|---|---|---|---|\n",
        "|1|Joey|Davidson|724-724-7244|1000|\n",
        "|2|Bob|Johnson|678-999-8212|350|\n",
        "|3|Larry|Jones|123-321-1234|0|\n",
        "|4|Fitzgerald|Banks|911-321-0987|800|"
      ]
    },
    {
      "cell_type": "markdown",
      "metadata": {
        "id": "DOHG6kkaQtan",
        "colab_type": "text"
      },
      "source": [
        "Table 2: Points Awarded for Purchases\n",
        "\n",
        "This table contains a list showing how many points buying each item in the store awards.\n",
        "Goal: Allow customers to easily see how many points things will award them\n",
        "Method: Provide a complete list in this table on our website"
      ]
    },
    {
      "cell_type": "markdown",
      "metadata": {
        "id": "MSDGis30Qxae",
        "colab_type": "text"
      },
      "source": [
        "|Item|Points Awarded|\n",
        "|---|---|\n",
        "|Candy Bar|50|\n",
        "|Pizza|200|\n",
        "|Icee|75|\n",
        "|Hot dog|100|\n",
        "|Pop|125|\n",
        "|Burger|150|\n",
        "|Cheeseburger|175|\n",
        "|Ice Cream|80|\n"
      ]
    },
    {
      "cell_type": "markdown",
      "metadata": {
        "id": "Fq_tj-arQ2pA",
        "colab_type": "text"
      },
      "source": [
        "Table 3: Points Needed to Purchase Items\n",
        "\n",
        "This list shows how many points each item in the store costs to buy."
      ]
    },
    {
      "cell_type": "markdown",
      "metadata": {
        "id": "VqX7Zvj4Q7-t",
        "colab_type": "text"
      },
      "source": [
        "|Item|Points Required|\n",
        "|---|---|\n",
        "|Pizza|2000|\n",
        "|Pop|800|\n",
        "|Hot dog|500|\n",
        "|Candy Bar|250|\n",
        "|Burger|1500|\n",
        "|Cheeseburger|1750|\n",
        "|Ice Cream|250|\n",
        "|Icee|200|"
      ]
    },
    {
      "cell_type": "markdown",
      "metadata": {
        "id": "pe68HChfQ-sI",
        "colab_type": "text"
      },
      "source": [
        "Table 4: Transactions (For customer 1)\n",
        "\n",
        "This list shows a summary of transactions, with each customer getting their own table."
      ]
    },
    {
      "cell_type": "markdown",
      "metadata": {
        "id": "fP0ug0OiRGXL",
        "colab_type": "text"
      },
      "source": [
        "|Transaction Number|Total in Dollars|New Points Balance|\n",
        "|---|---|---|\n",
        "|1|10|100|\n",
        "|2|15|300|\n",
        "|3|2|50|\n",
        "|4|20|350|\n",
        "|5|25|400|\n",
        "|6|30|450|\n",
        "|7|12|200|"
      ]
    },
    {
      "cell_type": "markdown",
      "metadata": {
        "id": "vPZfEbm1RMui",
        "colab_type": "text"
      },
      "source": [
        "Table 5: Transaction Details (For Customer 1, transaction 6)\n",
        "\n",
        "This list shows a list of items purchased in a particular transaction. This gives customers more details, and one of these tables exists for each transaction for each customer."
      ]
    },
    {
      "cell_type": "markdown",
      "metadata": {
        "id": "67w3Vj_cRSoh",
        "colab_type": "text"
      },
      "source": [
        "|Item Purchased|Price in Dollars|Quantity|Coupon/points used on how many|Points Awarded|\n",
        "|---|---|---|---|---|\n",
        "|Candy Bar|1|4|2|100|\n",
        "|Pizza|7|1|0|200|\n",
        "|Pop|2|2|1|0|125|"
      ]
    },
    {
      "cell_type": "markdown",
      "metadata": {
        "id": "dLrYXHIpRgkM",
        "colab_type": "text"
      },
      "source": [
        "![alt text](https://i.imgur.com/VCYjDtF.png)"
      ]
    }
  ]
}