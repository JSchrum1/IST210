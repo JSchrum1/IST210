{
  "nbformat": 4,
  "nbformat_minor": 0,
  "metadata": {
    "colab": {
      "name": "Databases.ipynb",
      "provenance": [],
      "collapsed_sections": []
    },
    "kernelspec": {
      "name": "python3",
      "display_name": "Python 3"
    }
  },
  "cells": [
    {
      "cell_type": "markdown",
      "metadata": {
        "id": "LmlMgscq0aka",
        "colab_type": "text"
      },
      "source": [
        "Project 1: "
      ]
    },
    {
      "cell_type": "markdown",
      "metadata": {
        "id": "QHq0hVis0moh",
        "colab_type": "text"
      },
      "source": [
        "This database is keeps track of customers and their purchases. This is also used to track how many rewards points customers have which they can use to get free things. Several of the tables here will be updated in real time. Most importantly, it is essential that the rewards points balance is up to date so someone can't just reuse the same rewards points several times before the system updates. This means table 1 will have to update point values in real time when someone makes a purchase. Tables 2 and 3 will be more or less consistent, with occasional changes or additions. Tables 4 and 5 will also have to update in real time in conjunction with table 1. Together, this system will allow customers to easily track their rewards points as well as their purchase history without having to keep receipts. They can also check how many more points they need for a reward and easily see how they can get those points. There is only 1 of table 1, as this table tracks all customers together. There is also only 1 copy of tables 2 and 3. Tables 4 and 5 will each have many distinct tables. There will be a different table 4 for each customer to track purchases separetly without having to sort through other people's orders. There will be a distinct copy of table 5 for each entry in table 4, since each transaction for each customer will need all the details tracked in table 5. There is a 1:M relationship from table 1 to table 4, and a M:M relationship between tables 4 and 5. Tables 2 and 3 are not linked to the others, but they are still necessary for reference, and are still used by the other tables when doing point calculations. For this purpose, tables 2 and 3 have a 1:M relationship with tables 4 and 5 and a 1:1 relationship with table 1.\n",
        "On a typical day, cashiers will use the register and everything will automatically update in the database. Corporate may occasionally change rewards prices and people may get bonuses for other reasons, but most work should be automatic.\n",
        "One constraint we will have is no negative point balances anywhere. Numbers will have to be numbers and phone numbers must have the correct number of digits unless otherwise approved. The system will also ask for confirmation for purchases over $100.\n",
        "The ultimate goal is to make it so customers enjoy our reward system more than our competitors' systems since it is easier to use and more transparent, so they will shop here more."
      ]
    },
    {
      "cell_type": "markdown",
      "metadata": {
        "id": "On7jzy2XksG6",
        "colab_type": "text"
      },
      "source": [
        "The link for the relationship model is https://imgur.com/a/eMghTOJ."
      ]
    },
    {
      "cell_type": "markdown",
      "metadata": {
        "id": "AIdd0hwcxVEg",
        "colab_type": "text"
      },
      "source": [
        "Idea 1: Gas Station Rewards points\n"
      ]
    },
    {
      "cell_type": "markdown",
      "metadata": {
        "id": "6gRjfLoD32jE",
        "colab_type": "text"
      },
      "source": [
        "Table 1: Customers\n",
        "\n",
        "A list of customers, their IDs, phone numbers, and reward point balances are stored here.\n",
        "Goal: track customer information\n",
        "Method: Store it all in 1 table"
      ]
    },
    {
      "cell_type": "markdown",
      "metadata": {
        "id": "8ftgiHOu4CTe",
        "colab_type": "text"
      },
      "source": [
        "|Customer ID|Name|Phone Number|Points Available|\n",
        "|---|---|---|---|\n",
        "|1|Joey|724-724-7244|1000|\n",
        "|2|Bob|678-999-8212|350|\n",
        "|3|Larry|123-321-1234|0|\n",
        "|4|Fitzgerald|911-321-0987|800|"
      ]
    },
    {
      "cell_type": "markdown",
      "metadata": {
        "id": "9FTO6GUh3CSv",
        "colab_type": "text"
      },
      "source": [
        "Table 2: Points Awarded for Purchases\n",
        "\n",
        "This table contains a list showing how many points buying each item in the store awards.\n",
        "Goal: Allow customers to easily see how many points things will award them\n",
        "Method: Provide a complete list in this table on our website"
      ]
    },
    {
      "cell_type": "markdown",
      "metadata": {
        "id": "9TB_6FfI3Wry",
        "colab_type": "text"
      },
      "source": [
        "|Item|Points Awarded|\n",
        "|---|---|\n",
        "|Candy Bar|50|\n",
        "|Pizza|200|\n",
        "|Icee|75|\n",
        "|Hot dog|100|\n",
        "|Pop|125|"
      ]
    },
    {
      "cell_type": "markdown",
      "metadata": {
        "id": "F_khNI-LHbs0",
        "colab_type": "text"
      },
      "source": [
        "Table 3: Points Needed to Purchase Items\n",
        "\n",
        "This list shows how many points each item in the store costs to buy."
      ]
    },
    {
      "cell_type": "markdown",
      "metadata": {
        "id": "VbP2W33kHhU5",
        "colab_type": "text"
      },
      "source": [
        "|Item|Points Required|\n",
        "|---|---|\n",
        "|Pizza|2000|\n",
        "|Pop|800|\n",
        "|Hot dog|500|\n",
        "|Candy Bar|250|"
      ]
    },
    {
      "cell_type": "markdown",
      "metadata": {
        "id": "Ab9LD6ER26tA",
        "colab_type": "text"
      },
      "source": [
        "Table 4: Transactions (For customer 1)\n",
        "\n",
        "This list shows a summary of transactions, with each customer getting their own table."
      ]
    },
    {
      "cell_type": "markdown",
      "metadata": {
        "id": "u20xEboR19fG",
        "colab_type": "text"
      },
      "source": [
        "|Transaction Number|Total in Dollars|New Points Balance|\n",
        "|---|---|---|\n",
        "|1|10|100|\n",
        "|2|15|300|\n",
        "|3|2|50|\n",
        "|4|20|350|"
      ]
    },
    {
      "cell_type": "markdown",
      "metadata": {
        "id": "AmcEBTC2IPZj",
        "colab_type": "text"
      },
      "source": [
        "Table 5: Transaction Details (For Customer 1, transaction 6)\n",
        "\n",
        "This list shows a list of items purchased in a particular transaction. This gives customers more details, and one of these tables exists for each transaction for each customer."
      ]
    },
    {
      "cell_type": "markdown",
      "metadata": {
        "id": "CkYyXO9BJMPw",
        "colab_type": "text"
      },
      "source": [
        "|Item Purchased|Price in Dollars|Quantity|Coupon/points used on how many|Points Awarded|\n",
        "|---|---|---|---|---|\n",
        "|Candy Bar|1|4|2|100|\n",
        "|Pizza|7|1|0|200|\n",
        "|Pop|2|2|1|0|125|"
      ]
    },
    {
      "cell_type": "markdown",
      "metadata": {
        "id": "2gme8_Vdm4Dz",
        "colab_type": "text"
      },
      "source": [
        "![alt text](https://i.imgur.com/VCYjDtF.png)"
      ]
    },
    {
      "cell_type": "markdown",
      "metadata": {
        "id": "wr-gc0gjmWAF",
        "colab_type": "text"
      },
      "source": [
        "![](https://imgur.com/a/eMghTOJ)"
      ]
    },
    {
      "cell_type": "markdown",
      "metadata": {
        "colab_type": "text",
        "id": "FuG6aVD-HXnh"
      },
      "source": [
        "\n",
        "Idea 2: Football \n",
        "\n",
        "\tThe main focus of this idea is to create a database that stores and analyzes key statistical data of NFL teams and players, to be later analyzed by the front offices of these NFL teams. This is to help show the value of certain players, and overall production to help teams decide who they want on their team, and how much they should pay each individual player. It can also be used as a big picture tool to help teams project their overall performance. I will be focussed on comparing Pre-Season statistics of NFL teams and players, and then comparing that to their current performance during the actual season. The Pre-Season statistics are all completed variables, therefore they will not need to be updated ever. The regular season statistics that are incorporated in the project will all be dynamic and must be updated as the current NFL season progresses. The reason why the Pre-Season statistics are useful is because they can be used to model other players projected statistics on the season, after we find the correlation between the pre-season and the regular season. Front offices around the league have teams dedicated to analyzing these clusters of data, so this idea is nothing new, but still extremely useful. Statisticians and data analyzers use these statistics to help find values in players at position the team needs to upgrade, and these workers will also create a price value that is reported to the general managers as a suggestion for what these players should make if it is decided that their contract be picked up. \n",
        "  \n",
        "  "
      ]
    },
    {
      "cell_type": "markdown",
      "metadata": {
        "id": "kuX9bSAo-fYT",
        "colab_type": "text"
      },
      "source": [
        "Pre-Season Rushing Rank, Player, and team:\n",
        "\n",
        "An overview of the top 5 players in total rushing yards during the preseason"
      ]
    },
    {
      "cell_type": "markdown",
      "metadata": {
        "colab_type": "text",
        "id": "6JVPhimz-jHV"
      },
      "source": [
        "|Rk #|Player|Team|\n",
        "|---|---|---|\n",
        "|1|Mike Boone|MIN|\n",
        "|2|Quadree Ollison|ATL|\n",
        "|3|Jeff Wilson|SF|\n",
        "|4|Mack Brown|OAK|\n",
        "|5|Dalyn Dawkins|TEN|\n",
        "\n",
        "\n",
        "\n",
        "\n"
      ]
    },
    {
      "cell_type": "markdown",
      "metadata": {
        "id": "-OW5XdgJAkCQ",
        "colab_type": "text"
      },
      "source": [
        "Pre-Season Rushing Rank, and total yards:\n",
        "\n",
        "\n",
        "This will display how many rushing yards these players had all together during the pre-season"
      ]
    },
    {
      "cell_type": "markdown",
      "metadata": {
        "id": "xdF2pu2kBOsg",
        "colab_type": "text"
      },
      "source": [
        "|Rk #|Yards Total|\n",
        "|---|---|\n",
        "|1|196|\n",
        "|2|181|\n",
        "|3|179|\n",
        "|4|161|\n",
        "|5|152|\n",
        "\n"
      ]
    },
    {
      "cell_type": "markdown",
      "metadata": {
        "id": "Dtsuy7_PEZGW",
        "colab_type": "text"
      },
      "source": [
        "Current Season Yards From Each Running Back (UPDATE VARIABLE #1):\n",
        "\n",
        "Examines the regular season production of each of those backs listed"
      ]
    },
    {
      "cell_type": "markdown",
      "metadata": {
        "id": "hTUQ9Lg4EngV",
        "colab_type": "text"
      },
      "source": [
        "|Pre-Season Rk #|Player|Current Yards|\n",
        "|---|---|---|\n",
        "|1|Mike Boone|28|\n",
        "|2|Quadree Ollison|0|\n",
        "|3|Jeff Wilson|52|\n",
        "|4|Mack Brown|0|\n",
        "|5|Dalyn Dawkins|0|\n"
      ]
    },
    {
      "cell_type": "markdown",
      "metadata": {
        "id": "rq5j26y4EyHQ",
        "colab_type": "text"
      },
      "source": [
        "(*DYNAMIC*) Net Yards (Current Season - Pre-Season):\n",
        "\n",
        "Shows how many yards each player has netted, and helps take into context the inflated preseason numbers."
      ]
    },
    {
      "cell_type": "markdown",
      "metadata": {
        "id": "GzpJof1kF6kG",
        "colab_type": "text"
      },
      "source": [
        "|Player|Net Yards|\n",
        "|---|---|\n",
        "|Mike Boone|-168|\n",
        "|Quadree Ollison|-181|\n",
        "|Jeff Wilson|-127|\n",
        "|Mack Brown|-161|\n",
        "|Dalyn Dawkins|-152|\n"
      ]
    },
    {
      "cell_type": "markdown",
      "metadata": {
        "id": "_Y8ISW4TBwYo",
        "colab_type": "text"
      },
      "source": [
        "Pre-Season Team Records vs Current Season Records (UPDATE VARIABLE #2):\n",
        "\n",
        "To show the impact of these rushers, we examine the record of the team they play for. "
      ]
    },
    {
      "cell_type": "markdown",
      "metadata": {
        "id": "HcNTmBmrC8D1",
        "colab_type": "text"
      },
      "source": [
        "|Team|Pre-Season Record|Current Season Record|\n",
        "|---|---|---|\n",
        "|MIN|3-1|2-1|\n",
        "|ATL|1-4|1-2|\n",
        "|SF|3-1|3-0|\n",
        "|OAK|3-1|1-2|\n",
        "|TEN|2-2|1-2|\n",
        "\n",
        "\n",
        "\n"
      ]
    },
    {
      "cell_type": "markdown",
      "metadata": {
        "colab_type": "text",
        "id": "75nRyn8xLZSp"
      },
      "source": [
        "https://imgur.com/a/jCqgbWX"
      ]
    },
    {
      "cell_type": "markdown",
      "metadata": {
        "id": "H1mSq-TXTghK",
        "colab_type": "text"
      },
      "source": [
        "Idea 3: Baseball"
      ]
    },
    {
      "cell_type": "markdown",
      "metadata": {
        "id": "K32NlnywTqCG",
        "colab_type": "text"
      },
      "source": [
        "My idea here is to find the best players that can make my team better. I am trying to think as a general manager for the franchise, whose goal is to make the team win a championship. The idea here is unique as in that there are various ways to look at players and value them. For example of this case in baseball, there is a way to value players looking at only their batting average. There may be another way to evaluate them by looking at the number of homeruns hit. Another way to value them may be based on their stolen bases. This is a modified business; many baseball businesses nowadays find their own ways of valuing players and create their lineup. However, although the basic outline may be modified, we are trying to be unique. Therefore, we will look at what not many businesses look at when creating their team. We will look at the player’s defensive statistics to create our team’s lineup. We will look at their fielding percentage, error, assist, putouts and the baseball team Los Angeles Angels’ 2019 player data. By creating a company (in this case a team) that looks at defensive statistics extensively rather than all other teams which only look at offensive statistics such as batting average or homerun, our interaction ( in this case our team) would have players that may not have the hottest bat, but have the best gloves and arm in the league. We as a team will have fun highlights to watch every night with spectacular defensive plays. As a front office person, I will try to find better defensive players; maybe someone who can bat well too at the same time.\n"
      ]
    },
    {
      "cell_type": "markdown",
      "metadata": {
        "id": "0fGAJszWTx3I",
        "colab_type": "text"
      },
      "source": [
        "Fielding percentage, error, assists, putouts and Los Angeles Angels’ player data table are the 5 tables that I will look at:\n",
        "\n",
        "-Fielding percentage will have the percentage statistics of (putouts+assists)/(putouts+assists+errors)\n",
        "\n",
        "-Error will have the number of errors committed\n",
        "\n",
        "-Assists will have the number of assists recorded and the players’ position as infielder will have more assists than outfielders in baseball.\n",
        "\n",
        "-Putouts will have the number of putouts recorded and the players’ position as infielder will have more assists than outfielders in baseball.\n",
        "\n",
        "-LA Angels player data table will have the collection of players who played for the Angels in 2019. \n",
        "\n",
        "My 1 end user real time data will be the LA Angels player data table where players who play for team will keep updating. \n",
        "\n",
        "\n",
        "Entities: 2019 Angels’ player data\n",
        "\n",
        "Attributes: errors, assists, putouts, fielding percentage\n"
      ]
    },
    {
      "cell_type": "markdown",
      "metadata": {
        "id": "FadE_FlqWGOw",
        "colab_type": "text"
      },
      "source": [
        "The table that has the list and information about the Los Angeles Angels' players in 2019"
      ]
    },
    {
      "cell_type": "markdown",
      "metadata": {
        "id": "s4s2cLFkUx0D",
        "colab_type": "text"
      },
      "source": [
        "|Player|Position|\n",
        "|---|---|\n",
        "|Albert Pujols|First Base|\n",
        "|Mike Trout|Center Field|\n",
        "|David Fletcher|Third Base|\n",
        "|Kole Calhoun|Right Field|"
      ]
    },
    {
      "cell_type": "markdown",
      "metadata": {
        "id": "7kEXc_vsWDCm",
        "colab_type": "text"
      },
      "source": [
        "The table that has the list of players selected and number of errors committed in 2019"
      ]
    },
    {
      "cell_type": "markdown",
      "metadata": {
        "id": "2W-tHBZAW7N7",
        "colab_type": "text"
      },
      "source": [
        "|Player|Errors|\n",
        "|---|---|\n",
        "|Albert Pujols|5|\n",
        "|Mike Trout|4|\n",
        "|David Fletcher|8|\n",
        "|Kole Calhoun|6|"
      ]
    },
    {
      "cell_type": "markdown",
      "metadata": {
        "id": "K1TqC14lW-w6",
        "colab_type": "text"
      },
      "source": [
        "The table that has the list of players selected and number of assists in 2019. We note the player's position in this table, as the position relates to how many assists a player makes in a season. "
      ]
    },
    {
      "cell_type": "markdown",
      "metadata": {
        "id": "N7sx-UjPXC6s",
        "colab_type": "text"
      },
      "source": [
        "|Player|Position|Assists|\n",
        "|---|---|---|\n",
        "|Albert Pujols|First Base|75|\n",
        "|Mike Trout|Center Field|5|\n",
        "|David Fletcher|Third Base|275|\n",
        "|Kole Calhoun|Right Field|7|"
      ]
    },
    {
      "cell_type": "markdown",
      "metadata": {
        "id": "_TcUIUNBXQrI",
        "colab_type": "text"
      },
      "source": [
        "The table that has the list of players selected and number of putouts in 2019. We note the player's position in this table as well, because the defensive position relates to how many putouts a player makes in a season. "
      ]
    },
    {
      "cell_type": "markdown",
      "metadata": {
        "id": "g7GkqndsXl0c",
        "colab_type": "text"
      },
      "source": [
        "|Player|Position|Putouts|\n",
        "|---|---|---|\n",
        "|Albert Pujols|First Base|698|\n",
        "|Mike Trout|Center Field|294|\n",
        "|David Fletcher|Third Base|145|\n",
        "|Kole Calhoun|Right Field|301|"
      ]
    },
    {
      "cell_type": "markdown",
      "metadata": {
        "id": "TvAU-6ugXtsg",
        "colab_type": "text"
      },
      "source": [
        "The table that has the list of players selected and their respective fielding percentage: which is calculated by (putouts+assists)/(putouts+assists+errors)"
      ]
    },
    {
      "cell_type": "markdown",
      "metadata": {
        "id": "AClbqlo4YQLO",
        "colab_type": "text"
      },
      "source": [
        "|Player|Fielding Percentage|\n",
        "|---|---|\n",
        "|Albert Pujols|0.994|\n",
        "|Mike Trout|0.987|\n",
        "|David Fletcher|0.981|\n",
        "|Kole Calhoun|0.981|"
      ]
    },
    {
      "cell_type": "markdown",
      "metadata": {
        "id": "6ngzfex6ZREh",
        "colab_type": "text"
      },
      "source": [
        "![alt text](https://i.imgur.com/qiYhxOJ.png)"
      ]
    }
  ]
}